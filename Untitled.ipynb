{
 "cells": [
  {
   "cell_type": "code",
   "execution_count": 10,
   "metadata": {
    "collapsed": false
   },
   "outputs": [
    {
     "name": "stdout",
     "output_type": "stream",
     "text": [
      "Using solver 'mosek'\n",
      "Solving for 2 variables.\n",
      "Solving took 0.0811 seconds.\n",
      "\n",
      "Cost\n",
      "----\n",
      " 0.05788\n",
      "\n",
      "Free Variables\n",
      "--------------\n",
      "x : 17.28 \n",
      "y : 2.939 \n",
      "\n"
     ]
    },
    {
     "data": {
      "text/plain": [
       "{'constants': {},\n",
       " 'cost': 0.057876388376330905,\n",
       " 'freevariables': {y: 2.9392348681099341, x: 17.278203219826445},\n",
       " 'sensitivities': {'constants': {},\n",
       "  'constraints': {'10*y >= 4 + y**3': {'10*y': 1.256494124709757,\n",
       "    '4': 0.17099608313984541,\n",
       "    'overall': 1.256494124709757,\n",
       "    'y**3': 1.0854980415699116},\n",
       "   'x = 2*y**2': {'2*y**2': -1.0, 'x': 1.0}},\n",
       "  'la': array([ 1.        ,  1.        ,  0.        ,  1.25649412]),\n",
       "  'nu': array([ 1.        ,  1.        , -0.        ,  1.08549804,  0.17099608])},\n",
       " 'variables': {y: 2.9392348681099341, x: 17.278203219826445}}"
      ]
     },
     "execution_count": 10,
     "metadata": {},
     "output_type": "execute_result"
    }
   ],
   "source": [
    "import gpkit\n",
    "\n",
    "x = gpkit.Variable(\"x\")\n",
    "y = gpkit.Variable(\"y\")\n",
    "\n",
    "m = gpkit.Model(1/x, [x == 2*y**2, y**3 + 4 <= 10*y])\n",
    "m.solve(\"mosek\")"
   ]
  }
 ],
 "metadata": {
  "kernelspec": {
   "display_name": "Python 2",
   "language": "python",
   "name": "python2"
  },
  "language_info": {
   "codemirror_mode": {
    "name": "ipython",
    "version": 2
   },
   "file_extension": ".py",
   "mimetype": "text/x-python",
   "name": "python",
   "nbconvert_exporter": "python",
   "pygments_lexer": "ipython2",
   "version": "2.7.6"
  }
 },
 "nbformat": 4,
 "nbformat_minor": 0
}
